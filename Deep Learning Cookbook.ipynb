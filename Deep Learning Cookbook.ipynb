{
 "cells": [
  {
   "cell_type": "code",
   "execution_count": 1,
   "metadata": {},
   "outputs": [
    {
     "name": "stderr",
     "output_type": "stream",
     "text": [
      "/home/edgar/anaconda3/lib/python3.7/site-packages/smart_open/smart_open_lib.py:398: UserWarning: This function is deprecated, use smart_open.open instead. See the migration notes for details: https://github.com/RaRe-Technologies/smart_open/blob/master/README.rst#migrating-to-the-new-open-function\n",
      "  'See the migration notes for details: %s' % _MIGRATION_NOTES_URL\n"
     ]
    }
   ],
   "source": [
    "# Use google word2Vec trained model and gensim\n",
    "import gensim\n",
    "model = gensim.models.KeyedVectors.load_word2vec_format(\"GoogleNews-vectors-negative300.bin\", binary=True)"
   ]
  },
  {
   "cell_type": "code",
   "execution_count": 2,
   "metadata": {},
   "outputs": [
    {
     "data": {
      "text/plain": [
       "[('cappuccino', 0.6888186931610107),\n",
       " ('mocha', 0.6686208844184875),\n",
       " ('coffee', 0.6616826057434082),\n",
       " ('latte', 0.6536753177642822),\n",
       " ('caramel_macchiato', 0.6491268873214722),\n",
       " ('ristretto', 0.6485545635223389),\n",
       " ('espressos', 0.6438628435134888),\n",
       " ('macchiato', 0.6428250074386597),\n",
       " ('chai_latte', 0.6308028697967529),\n",
       " ('espresso_cappuccino', 0.6280542612075806)]"
      ]
     },
     "execution_count": 2,
     "metadata": {},
     "output_type": "execute_result"
    }
   ],
   "source": [
    "# find most similar word\n",
    "model.most_similar(positive=['espresso'])"
   ]
  },
  {
   "cell_type": "code",
   "execution_count": 3,
   "metadata": {},
   "outputs": [],
   "source": [
    "# Word2Vec Math\n",
    "# A is to B as C is to X:\n",
    "\n",
    "# check gensim documentation for this\n",
    "# functions details\n",
    "# extremely impressive\n",
    "def A_is_to_B_as_C_is_to(a, b, c, topn=1):\n",
    "    a,b,c = map(lambda x:x if type(x) == list else [x], (a,b,c))\n",
    "    res = model.most_similar(positive=b+c, negative=a, topn=topn)\n",
    "    if len(res):\n",
    "        if topn == 1:\n",
    "            return res[0][0]\n",
    "        return [x[0] for x in res]\n",
    "    return None"
   ]
  },
  {
   "cell_type": "code",
   "execution_count": 4,
   "metadata": {},
   "outputs": [
    {
     "data": {
      "text/plain": [
       "'queen'"
      ]
     },
     "execution_count": 4,
     "metadata": {},
     "output_type": "execute_result"
    }
   ],
   "source": [
    "A_is_to_B_as_C_is_to('man', 'woman', 'king')"
   ]
  },
  {
   "cell_type": "code",
   "execution_count": 5,
   "metadata": {},
   "outputs": [
    {
     "name": "stdout",
     "output_type": "stream",
     "text": [
      "Rome is the capital of Italy\n",
      "Paris is the capital of France\n",
      "Delhi is the capital of India\n",
      "Beijing is the capital of China\n"
     ]
    }
   ],
   "source": [
    "# For finding countries' capitals \n",
    "# using relative values\n",
    "for country in \"Italy\",\"France\", \"India\", \"China\":    \n",
    "    print(\"{} is the capital of {}\".format(A_is_to_B_as_C_is_to(\"Germany\", \"Berlin\", country), country))"
   ]
  },
  {
   "cell_type": "code",
   "execution_count": 6,
   "metadata": {},
   "outputs": [
    {
     "name": "stdout",
     "output_type": "stream",
     "text": [
      "Google -> personalized_homepage, app, Gmail\n",
      "IBM -> DB2, WebSphere_Portal, Tamino_XML_Server\n",
      "Boeing -> Dreamliner, airframe, aircraft\n",
      "Microsoft -> Windows_Mobile, SyncMate, Windows\n",
      "Samsung -> MM_A###, handset, Samsung_SCH_B###\n"
     ]
    }
   ],
   "source": [
    "for company in \"Google\", \"IBM\", \"Boeing\", \"Microsoft\", \"Samsung\":\n",
    "    products = A_is_to_B_as_C_is_to(\n",
    "        [\"Starbucks\", \"Apple\"], \n",
    "        [\"Starbucks_coffee\", \"iPhone\"],\n",
    "        company,\n",
    "        topn=3\n",
    "    )\n",
    "    \n",
    "    print(\"{} -> {}\".format(company, ', '.join(products)))"
   ]
  },
  {
   "cell_type": "code",
   "execution_count": 7,
   "metadata": {},
   "outputs": [],
   "source": [
    "# Visualizing word embedding\n",
    "import numpy as np\n",
    "\n",
    "# t-distributed Stochastic Neighbor Embedding.\n",
    "from sklearn.manifold import TSNE\n",
    "\n",
    "# support vector classifier\n",
    "from sklearn import svm\n",
    "from sklearn.metrics import accuracy_score, f1_score\n",
    "\n",
    "# import the random library\n",
    "import random\n",
    "\n",
    "# plotting\n",
    "import matplotlib.pyplot as plt\n",
    "\n",
    "import csv\n",
    "\n",
    "\n",
    "\n",
    "# geopandas for geography and maps\n",
    "import geopandas as gpd\n",
    "\n",
    "beverages = [\"espresso\", \"beer\", \"vodka\", \"wine\", \"cola\", \"tea\", \"cappuccino\"]\n",
    "countries = [\"Italy\", \"Germany\", \"Russia\", \"France\", \"USA\", \"India\", \"Paraguay\"]\n",
    "sports = [\"soccer\", \"handball\", \"hockey\", \"cycling\", \"basketball\", \"cricket\", \"volleyball\"]\n",
    "\n",
    "items = beverages + countries + sports\n",
    "\n",
    "item_vectors = [(item, model[item]) for item in items if item in model]"
   ]
  },
  {
   "cell_type": "code",
   "execution_count": 8,
   "metadata": {
    "scrolled": false
   },
   "outputs": [
    {
     "name": "stdout",
     "output_type": "stream",
     "text": [
      "espresso is a vector of 300 nodes\n"
     ]
    }
   ],
   "source": [
    "print(\"{} is a vector of {} nodes\".format(items[0], model[items[0]].shape[0]))"
   ]
  },
  {
   "cell_type": "code",
   "execution_count": 9,
   "metadata": {},
   "outputs": [
    {
     "name": "stdout",
     "output_type": "stream",
     "text": [
      "[t-SNE] Computing 20 nearest neighbors...\n",
      "[t-SNE] Indexed 21 samples in 0.000s...\n",
      "[t-SNE] Computed neighbors for 21 samples in 0.001s...\n",
      "[t-SNE] Computed conditional probabilities for sample 21 / 21\n",
      "[t-SNE] Mean sigma: 0.542792\n",
      "[t-SNE] Computed conditional probabilities in 0.002s\n",
      "[t-SNE] Iteration 50: error = 51.1653023, gradient norm = 0.2445077 (50 iterations in 0.009s)\n",
      "[t-SNE] Iteration 100: error = 52.7160683, gradient norm = 0.3314100 (50 iterations in 0.009s)\n",
      "[t-SNE] Iteration 150: error = 47.6210022, gradient norm = 0.1578530 (50 iterations in 0.008s)\n",
      "[t-SNE] Iteration 200: error = 61.8409500, gradient norm = 0.1693976 (50 iterations in 0.007s)\n",
      "[t-SNE] Iteration 250: error = 77.6688385, gradient norm = 0.2371948 (50 iterations in 0.007s)\n",
      "[t-SNE] KL divergence after 250 iterations with early exaggeration: 77.668839\n",
      "[t-SNE] Iteration 300: error = 1.4852906, gradient norm = 0.0011122 (50 iterations in 0.007s)\n",
      "[t-SNE] Iteration 350: error = 1.1260130, gradient norm = 0.0006959 (50 iterations in 0.006s)\n",
      "[t-SNE] Iteration 400: error = 0.9437550, gradient norm = 0.0003377 (50 iterations in 0.006s)\n",
      "[t-SNE] Iteration 450: error = 0.8691992, gradient norm = 0.0002957 (50 iterations in 0.007s)\n",
      "[t-SNE] Iteration 500: error = 0.7366992, gradient norm = 0.0003952 (50 iterations in 0.007s)\n",
      "[t-SNE] Iteration 550: error = 0.6576857, gradient norm = 0.0002697 (50 iterations in 0.007s)\n",
      "[t-SNE] Iteration 600: error = 0.5711906, gradient norm = 0.0002841 (50 iterations in 0.006s)\n",
      "[t-SNE] Iteration 650: error = 0.4382855, gradient norm = 0.0003077 (50 iterations in 0.006s)\n",
      "[t-SNE] Iteration 700: error = 0.3792004, gradient norm = 0.0002831 (50 iterations in 0.007s)\n",
      "[t-SNE] Iteration 750: error = 0.3188340, gradient norm = 0.0002247 (50 iterations in 0.005s)\n",
      "[t-SNE] Iteration 800: error = 0.2202724, gradient norm = 0.0003109 (50 iterations in 0.007s)\n",
      "[t-SNE] Iteration 850: error = 0.1847047, gradient norm = 0.0002238 (50 iterations in 0.006s)\n",
      "[t-SNE] Iteration 900: error = 0.1499003, gradient norm = 0.0001440 (50 iterations in 0.005s)\n",
      "[t-SNE] Iteration 950: error = 0.1332281, gradient norm = 0.0000906 (50 iterations in 0.005s)\n",
      "[t-SNE] Iteration 1000: error = 0.1285299, gradient norm = 0.0000351 (50 iterations in 0.006s)\n",
      "[t-SNE] KL divergence after 1000 iterations: 0.128530\n"
     ]
    }
   ],
   "source": [
    "vectors = np.asarray([x[1] for x in item_vectors])\n",
    "lengths= np.linalg.norm(vectors, axis=1)\n",
    "norm_vectors = (vectors.T / lengths).T\n",
    "\n",
    "# t-distributed Stochastic Neighbor Embedding.\n",
    "# to reduce high dimensional space onto a plane\n",
    "tsne = TSNE(n_components=2, perplexity=10, verbose=2).fit_transform(norm_vectors)\n",
    "\n"
   ]
  },
  {
   "cell_type": "code",
   "execution_count": 10,
   "metadata": {},
   "outputs": [
    {
     "data": {
      "image/png": "[encoded data removed]",
      "text/plain": [
       "<Figure size 1080x720 with 1 Axes>"
      ]
     },
     "metadata": {
      "needs_background": "light"
     },
     "output_type": "display_data"
    }
   ],
   "source": [
    "x=tsne[:,0]\n",
    "y=tsne[:, 1]\n",
    "\n",
    "fig, ax = plt.subplots(figsize=(15,10))\n",
    "ax.scatter(x, y)\n",
    "\n",
    "for item, x1, y1 in zip(item_vectors, x, y):\n",
    "    ax.annotate(item[0], (x1, y1))\n",
    "    \n",
    "plt.show()"
   ]
  },
  {
   "cell_type": "code",
   "execution_count": 11,
   "metadata": {},
   "outputs": [
    {
     "data": {
      "text/plain": [
       "[('Austria', 0.7461062073707581),\n",
       " ('German', 0.7178748846054077),\n",
       " ('Germans', 0.6628648042678833),\n",
       " ('Switzerland', 0.6506868600845337),\n",
       " ('Hungary', 0.6504982709884644),\n",
       " ('Germnay', 0.649348258972168),\n",
       " ('Netherlands', 0.6437496542930603),\n",
       " ('Cologne', 0.6430779695510864),\n",
       " ('symbol_RSTI', 0.6389946937561035),\n",
       " ('Annita_Kirsten', 0.6342948079109192)]"
      ]
     },
     "execution_count": 11,
     "metadata": {},
     "output_type": "execute_result"
    }
   ],
   "source": [
    "# find subspaces with entities of one class (type)\n",
    "model.most_similar(positive=[\"Germany\"])\n",
    "\n"
   ]
  },
  {
   "cell_type": "code",
   "execution_count": 12,
   "metadata": {},
   "outputs": [],
   "source": [
    "# positive examples of countries\n",
    "positive = [\n",
    "    \"Chile\",\n",
    "    \"Mauritius\",\"Barbados\", \"Ukraine\", \"Israel\", \"Rwanda\", \"Venezuela\", \"Lithuania\", \n",
    "    \"Costa_Rica\", \"Romania\", \"Senegal\", \"Canada\", \"Malasia\", \"South_Korea\", \"Australia\", \"Tunisia\", \"Armenia\",\n",
    "    \"China\", \"Czech_Republic\", \"Guinea\", \"Gambia\", \"Gabon\", \"Italy\", \"Montenegro\", \"Guyana\", \"Nicaragua\", \"French_Guiana\",\n",
    "    \"Serbia\", \"Uruguay\", \"Ethiopia\", \"Samoa\", \"Antarctica\", \"Suriname\", \"Finland\", \"Bermuda\", \"Cuba\", \"Oman\", \"Azerbaijan\",\n",
    "    \"Papua\", \"France\", \"Tanzania\", \"Germany\"\n",
    "]\n"
   ]
  },
  {
   "cell_type": "code",
   "execution_count": 13,
   "metadata": {},
   "outputs": [
    {
     "data": {
      "text/plain": [
       "5000"
      ]
     },
     "execution_count": 13,
     "metadata": {},
     "output_type": "execute_result"
    }
   ],
   "source": [
    "# negative examples\n",
    "negative = random.sample(model.vocab.keys(), 5000)\n",
    "negative[:4]\n",
    "len(negative)"
   ]
  },
  {
   "cell_type": "code",
   "execution_count": 14,
   "metadata": {
    "scrolled": true
   },
   "outputs": [],
   "source": [
    "# creating labells for negative examples\n",
    "labelled = [(p, 1) for p in positive] + [(n, 0) for n in negative]\n",
    "random.shuffle(labelled)\n",
    "X = np.asarray([model[w] for w, l in labelled])\n",
    "y = np.asarray([l for w, l in labelled])"
   ]
  },
  {
   "cell_type": "code",
   "execution_count": 15,
   "metadata": {},
   "outputs": [
    {
     "data": {
      "text/plain": [
       "SVC(C=1.0, cache_size=200, class_weight=None, coef0=0.0,\n",
       "    decision_function_shape='ovr', degree=3, gamma='auto_deprecated',\n",
       "    kernel='linear', max_iter=-1, probability=False, random_state=None,\n",
       "    shrinking=True, tol=0.001, verbose=False)"
      ]
     },
     "execution_count": 15,
     "metadata": {},
     "output_type": "execute_result"
    }
   ],
   "source": [
    "# Training support vector machine to create a separation line for stuff\n",
    "\n",
    "# 70% of the data\n",
    "TRAINING_FRACTION = 0.7\n",
    "cut_off = int(TRAINING_FRACTION * len(labelled))\n",
    "clf = svm.SVC(kernel='linear')\n",
    "clf.fit(X[:cut_off], y[:cut_off])"
   ]
  },
  {
   "cell_type": "code",
   "execution_count": 16,
   "metadata": {},
   "outputs": [
    {
     "data": {
      "text/plain": [
       "0.9993390614672836"
      ]
     },
     "execution_count": 16,
     "metadata": {},
     "output_type": "execute_result"
    }
   ],
   "source": [
    "res = clf.predict(X[cut_off:])\n",
    "\n",
    "x_testing = X[cut_off:]\n",
    "y_testing = y[cut_off:]\n",
    "\n",
    "\n",
    "# pretty high accuracy\n",
    "accuracy_score(y_testing, res)"
   ]
  },
  {
   "cell_type": "code",
   "execution_count": 17,
   "metadata": {},
   "outputs": [
    {
     "data": {
      "text/plain": [
       "(99.93390614672836, [('Haiti', 0)])"
      ]
     },
     "execution_count": 17,
     "metadata": {},
     "output_type": "execute_result"
    }
   ],
   "source": [
    "res = clf.predict(X[cut_off:])\n",
    "\n",
    "missed = [country for (pred, truth, country) in \n",
    " zip(res, y[cut_off:], labelled[cut_off:]) if pred != truth]\n",
    "\n",
    "100 - 100 * float(len(missed)) / len(res), missed"
   ]
  },
  {
   "cell_type": "code",
   "execution_count": 18,
   "metadata": {},
   "outputs": [
    {
     "data": {
      "text/plain": [
       "0.9780943693987172"
      ]
     },
     "execution_count": 18,
     "metadata": {},
     "output_type": "execute_result"
    }
   ],
   "source": [
    "# pretty high f1 score\n",
    "f1_score(y_testing, res, average='macro') "
   ]
  },
  {
   "cell_type": "code",
   "execution_count": 19,
   "metadata": {},
   "outputs": [
    {
     "name": "stderr",
     "output_type": "stream",
     "text": [
      "/home/edgar/anaconda3/lib/python3.7/site-packages/ipykernel_launcher.py:1: DeprecationWarning: Call to deprecated `syn0` (Attribute will be removed in 4.0.0, use self.wv.vectors instead).\n",
      "  \"\"\"Entry point for launching an IPython kernel.\n"
     ]
    }
   ],
   "source": [
    "all_predictions = clf.predict(model.syn0)"
   ]
  },
  {
   "cell_type": "code",
   "execution_count": 20,
   "metadata": {
    "scrolled": true
   },
   "outputs": [
    {
     "data": {
      "text/plain": [
       "['Ecuador',\n",
       " 'Somalia',\n",
       " 'Guantanamo',\n",
       " 'Czech_Republic',\n",
       " 'Norway',\n",
       " 'Haiti',\n",
       " 'Congo',\n",
       " 'Croatia',\n",
       " 'Dutch',\n",
       " 'Gaza_Strip']"
      ]
     },
     "execution_count": 20,
     "metadata": {},
     "output_type": "execute_result"
    }
   ],
   "source": [
    "res = []\n",
    "for word, pred in zip(model.index2word, all_predictions):\n",
    "    if pred:\n",
    "        res.append(word)\n",
    "        if len(res) == 150:\n",
    "            break\n",
    "random.sample(res, 10)"
   ]
  },
  {
   "cell_type": "code",
   "execution_count": 21,
   "metadata": {},
   "outputs": [
    {
     "data": {
      "text/plain": [
       "[OrderedDict([('name', 'Canada'), ('cc', 'ca'), ('cc3', 'can')]),\n",
       " OrderedDict([('name', 'Turkmenistan'), ('cc', 'tm'), ('cc3', 'tkm')]),\n",
       " OrderedDict([('name', 'Ethiopia'), ('cc', 'et'), ('cc3', 'eth')]),\n",
       " OrderedDict([('name', 'Swaziland'), ('cc', 'sz'), ('cc3', 'swz')]),\n",
       " OrderedDict([('name', 'Czech_Republic'), ('cc', 'cz'), ('cc3', 'cze')]),\n",
       " OrderedDict([('name', 'Cameroon'), ('cc', 'cm'), ('cc3', 'cmr')]),\n",
       " OrderedDict([('name', 'UAE'), ('cc', 'ae'), ('cc3', 'are')]),\n",
       " OrderedDict([('name', 'Liberia'), ('cc', 'lr'), ('cc3', 'lbr')]),\n",
       " OrderedDict([('name', 'Netherlands'), ('cc', 'nl'), ('cc3', 'nld')]),\n",
       " OrderedDict([('name', 'East_Timor'), ('cc', 'tl'), ('cc3', 'tls')])]"
      ]
     },
     "execution_count": 21,
     "metadata": {},
     "output_type": "execute_result"
    }
   ],
   "source": [
    "# Find the most relevant item from a classa of a given criterion\n",
    "\n",
    "# country_to_idx = {country['name']}\n",
    "countries = list(csv.DictReader(open('countries.csv')))\n",
    "countries[:10]"
   ]
  },
  {
   "cell_type": "code",
   "execution_count": 22,
   "metadata": {},
   "outputs": [
    {
     "data": {
      "text/plain": [
       "(184, 300)"
      ]
     },
     "execution_count": 22,
     "metadata": {},
     "output_type": "execute_result"
    }
   ],
   "source": [
    "country_to_idx = {country['name']: idx for idx, country in enumerate(countries)}\n",
    "country_vecs = np.asarray([model[c['name']] for c in countries])\n",
    "country_vecs.shape"
   ]
  },
  {
   "cell_type": "code",
   "execution_count": 23,
   "metadata": {},
   "outputs": [
    {
     "name": "stdout",
     "output_type": "stream",
     "text": [
      "Canada 7.544024\n",
      "New_Zealand 3.9619699\n",
      "Finland 3.9392405\n",
      "Puerto_Rico 3.838145\n",
      "Jamaica 3.8102937\n",
      "Sweden 3.8042789\n",
      "Slovakia 3.7038739\n",
      "Australia 3.671101\n",
      "Bahamas 3.6240416\n",
      "United_States 3.537434\n"
     ]
    }
   ],
   "source": [
    "\n",
    "# which countries are more like canada\n",
    "\n",
    "dists = np.dot(country_vecs, country_vecs[country_to_idx['Canada']])\n",
    "for idx in reversed(np.argsort(dists)[-10:]):\n",
    "    print(countries[idx]['name'], dists[idx])"
   ]
  },
  {
   "cell_type": "code",
   "execution_count": 24,
   "metadata": {},
   "outputs": [],
   "source": [
    "def rank_countries(term, topn=10, field='name'):\n",
    "    print(term)\n",
    "    if not term in model:\n",
    "        return []\n",
    "    vec = model[term]\n",
    "    dists = np.dot(country_vecs, vec)\n",
    "    return [(countries[idx][field], float(dists[idx]))\n",
    "        for idx in reversed(np.argsort(dists)[-topn:])]"
   ]
  },
  {
   "cell_type": "code",
   "execution_count": 25,
   "metadata": {},
   "outputs": [
    {
     "name": "stdout",
     "output_type": "stream",
     "text": [
      "cricket\n"
     ]
    },
    {
     "data": {
      "text/plain": [
       "[('Sri_Lanka', 5.92276668548584),\n",
       " ('Zimbabwe', 5.336524963378906),\n",
       " ('Bangladesh', 5.192488670349121),\n",
       " ('Pakistan', 4.948408126831055),\n",
       " ('Guyana', 3.9162840843200684),\n",
       " ('Barbados', 3.757995128631592),\n",
       " ('India', 3.7504398822784424),\n",
       " ('South_Africa', 3.6561501026153564),\n",
       " ('New_Zealand', 3.64202880859375),\n",
       " ('Fiji', 3.608567714691162)]"
      ]
     },
     "execution_count": 25,
     "metadata": {},
     "output_type": "execute_result"
    }
   ],
   "source": [
    "# pretty cool trick!!\n",
    "rank_countries('cricket')"
   ]
  },
  {
   "cell_type": "code",
   "execution_count": 26,
   "metadata": {},
   "outputs": [
    {
     "data": {
      "text/html": [
       "<div>\n",
       "<style scoped>\n",
       "    .dataframe tbody tr th:only-of-type {\n",
       "        vertical-align: middle;\n",
       "    }\n",
       "\n",
       "    .dataframe tbody tr th {\n",
       "        vertical-align: top;\n",
       "    }\n",
       "\n",
       "    .dataframe thead th {\n",
       "        text-align: right;\n",
       "    }\n",
       "</style>\n",
       "<table border=\"1\" class=\"dataframe\">\n",
       "  <thead>\n",
       "    <tr style=\"text-align: right;\">\n",
       "      <th></th>\n",
       "      <th>pop_est</th>\n",
       "      <th>continent</th>\n",
       "      <th>name</th>\n",
       "      <th>iso_a3</th>\n",
       "      <th>gdp_md_est</th>\n",
       "      <th>geometry</th>\n",
       "    </tr>\n",
       "  </thead>\n",
       "  <tbody>\n",
       "    <tr>\n",
       "      <th>0</th>\n",
       "      <td>28400000.0</td>\n",
       "      <td>Asia</td>\n",
       "      <td>Afghanistan</td>\n",
       "      <td>AFG</td>\n",
       "      <td>22270.0</td>\n",
       "      <td>POLYGON ((61.21081709172574 35.65007233330923,...</td>\n",
       "    </tr>\n",
       "    <tr>\n",
       "      <th>1</th>\n",
       "      <td>12799293.0</td>\n",
       "      <td>Africa</td>\n",
       "      <td>Angola</td>\n",
       "      <td>AGO</td>\n",
       "      <td>110300.0</td>\n",
       "      <td>(POLYGON ((16.32652835456705 -5.87747039146621...</td>\n",
       "    </tr>\n",
       "    <tr>\n",
       "      <th>2</th>\n",
       "      <td>3639453.0</td>\n",
       "      <td>Europe</td>\n",
       "      <td>Albania</td>\n",
       "      <td>ALB</td>\n",
       "      <td>21810.0</td>\n",
       "      <td>POLYGON ((20.59024743010491 41.85540416113361,...</td>\n",
       "    </tr>\n",
       "    <tr>\n",
       "      <th>3</th>\n",
       "      <td>4798491.0</td>\n",
       "      <td>Asia</td>\n",
       "      <td>United Arab Emirates</td>\n",
       "      <td>ARE</td>\n",
       "      <td>184300.0</td>\n",
       "      <td>POLYGON ((51.57951867046327 24.24549713795111,...</td>\n",
       "    </tr>\n",
       "    <tr>\n",
       "      <th>4</th>\n",
       "      <td>40913584.0</td>\n",
       "      <td>South America</td>\n",
       "      <td>Argentina</td>\n",
       "      <td>ARG</td>\n",
       "      <td>573900.0</td>\n",
       "      <td>(POLYGON ((-65.50000000000003 -55.199999999999...</td>\n",
       "    </tr>\n",
       "  </tbody>\n",
       "</table>\n",
       "</div>"
      ],
      "text/plain": [
       "      pop_est      continent                  name iso_a3  gdp_md_est  \\\n",
       "0  28400000.0           Asia           Afghanistan    AFG     22270.0   \n",
       "1  12799293.0         Africa                Angola    AGO    110300.0   \n",
       "2   3639453.0         Europe               Albania    ALB     21810.0   \n",
       "3   4798491.0           Asia  United Arab Emirates    ARE    184300.0   \n",
       "4  40913584.0  South America             Argentina    ARG    573900.0   \n",
       "\n",
       "                                            geometry  \n",
       "0  POLYGON ((61.21081709172574 35.65007233330923,...  \n",
       "1  (POLYGON ((16.32652835456705 -5.87747039146621...  \n",
       "2  POLYGON ((20.59024743010491 41.85540416113361,...  \n",
       "3  POLYGON ((51.57951867046327 24.24549713795111,...  \n",
       "4  (POLYGON ((-65.50000000000003 -55.199999999999...  "
      ]
     },
     "execution_count": 26,
     "metadata": {},
     "output_type": "execute_result"
    }
   ],
   "source": [
    "# Visuallzing country on a Map\n",
    "# visualize country rankings from an experiment on a map\n",
    "world = gpd.read_file(gpd.datasets.get_path('naturalearth_lowres'))\n",
    "world.head()"
   ]
  },
  {
   "cell_type": "code",
   "execution_count": 34,
   "metadata": {},
   "outputs": [
    {
     "name": "stdout",
     "output_type": "stream",
     "text": [
      "coffee\n"
     ]
    },
    {
     "data": {
      "image/png": "[encoded data removed]",
      "text/plain": [
       "<Figure size 1080x864 with 1 Axes>"
      ]
     },
     "metadata": {
      "needs_background": "light"
     },
     "output_type": "display_data"
    }
   ],
   "source": [
    "def map_term(term):\n",
    "    d = {k.upper(): v for k, v in rank_countries(term, topn=0, field='cc3')}\n",
    "    world[term] = world['iso_a3'].map(d)\n",
    "    world[term] /= world[term].max()\n",
    "    world.dropna().plot(term, cmap='OrRd', figsize=(15, 12))\n",
    "map_term('coffee')\n",
    "    "
   ]
  },
  {
   "cell_type": "code",
   "execution_count": 35,
   "metadata": {},
   "outputs": [
    {
     "name": "stdout",
     "output_type": "stream",
     "text": [
      "coffee\n",
      "[('Ethiopia', 1.9432250261306763), ('Kenya', 1.9391343593597412), ('Colombia', 1.9116393327713013), ('Burundi', 1.885450839996338), ('Tanzania', 1.883944034576416), ('Uganda', 1.7865114212036133), ('East_Timor', 1.7661278247833252), ('Rwanda', 1.7186616659164429), ('Djibouti', 1.670926570892334), ('Costa_Rica', 1.6578598022460938)]\n"
     ]
    }
   ],
   "source": [
    "for country in rank_countries():"
   ]
  },
  {
   "cell_type": "code",
   "execution_count": null,
   "metadata": {},
   "outputs": [],
   "source": []
  }
 ],
 "metadata": {
  "kernelspec": {
   "display_name": "Python 3",
   "language": "python",
   "name": "python3"
  },
  "language_info": {
   "codemirror_mode": {
    "name": "ipython",
    "version": 3
   },
   "file_extension": ".py",
   "mimetype": "text/x-python",
   "name": "python",
   "nbconvert_exporter": "python",
   "pygments_lexer": "ipython3",
   "version": "3.7.3"
  }
 },
 "nbformat": 4,
 "nbformat_minor": 2
}
